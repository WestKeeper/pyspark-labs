{
 "cells": [
  {
   "cell_type": "markdown",
   "id": "05e82b66-c5f9-40fb-8f25-13e210fe315a",
   "metadata": {
    "tags": []
   },
   "source": [
    "# Imports"
   ]
  },
  {
   "cell_type": "code",
   "execution_count": 1,
   "id": "1dc40491-e42c-4a09-a23f-bf8718270a6b",
   "metadata": {},
   "outputs": [],
   "source": [
    "from pathlib import Path\n",
    "import sys\n",
    "\n",
    "import pyspark\n",
    "from pyspark.sql import SparkSession\n",
    "from pyspark.sql.functions import avg\n",
    "from pyspark.sql.functions import udf\n",
    "\n",
    "ROOT_DIR = Path('../').resolve()\n",
    "if ROOT_DIR not in sys.path:\n",
    "    sys.path.append(str(ROOT_DIR))"
   ]
  },
  {
   "cell_type": "code",
   "execution_count": 2,
   "id": "2c6c64c9-cc9c-48bb-8cf3-b8c965073a65",
   "metadata": {},
   "outputs": [],
   "source": [
    "DF_PATH = '/'.join([str(ROOT_DIR), 'data', 'brooklyn_sales_map.csv'])\n",
    "\n",
    "APP_NAME = 'lab_1_app'\n",
    "\n",
    "YEAR_BUILT = 'year_built'\n",
    "YEAR_BUILT_DEVIATION = '_'.join([YEAR_BUILT, 'deviation'])\n",
    "\n",
    "SALE_PRICE = 'sale_price'\n",
    "ZIP_CODE = 'zip_code'\n",
    "\n",
    "NEIGHBORHOOD = 'neighborhood'\n",
    "BUILDING_CLASS_CATEGORY = 'building_class_category'\n",
    "ADDRESS = 'address9'\n",
    "BUILDING_NUM = 'building_num'\n",
    "STREET_NAME = 'street_name'"
   ]
  },
  {
   "cell_type": "code",
   "execution_count": 3,
   "id": "03880916-fe24-4bed-850c-a1c19b3d6a4c",
   "metadata": {},
   "outputs": [
    {
     "data": {
      "text/plain": [
       "'3.2.1'"
      ]
     },
     "execution_count": 3,
     "metadata": {},
     "output_type": "execute_result"
    }
   ],
   "source": [
    "spark = SparkSession.builder.appName(APP_NAME).getOrCreate()\n",
    "spark.version"
   ]
  },
  {
   "cell_type": "markdown",
   "id": "17dd295d-28b2-479a-9851-bd3a3747412b",
   "metadata": {
    "tags": []
   },
   "source": [
    "# Data Loading"
   ]
  },
  {
   "cell_type": "code",
   "execution_count": 4,
   "id": "139d3f21-353f-45bd-beb5-916c3d9107fa",
   "metadata": {},
   "outputs": [],
   "source": [
    "df = spark.read.csv(DF_PATH, header=True, inferSchema=True)"
   ]
  },
  {
   "cell_type": "code",
   "execution_count": 5,
   "id": "a4b24741-9302-4ceb-8af0-524aaf7d9b43",
   "metadata": {
    "tags": []
   },
   "outputs": [
    {
     "data": {
      "text/plain": [
       "['_c0',\n",
       " 'borough1',\n",
       " 'neighborhood',\n",
       " 'building_class_category',\n",
       " 'tax_class',\n",
       " 'block',\n",
       " 'lot',\n",
       " 'easement',\n",
       " 'building_class',\n",
       " 'address9',\n",
       " 'apartment_number',\n",
       " 'zip_code',\n",
       " 'residential_units',\n",
       " 'commercial_units',\n",
       " 'total_units',\n",
       " 'land_sqft',\n",
       " 'gross_sqft',\n",
       " 'year_built',\n",
       " 'tax_class_at_sale',\n",
       " 'building_class_at_sale',\n",
       " 'sale_price',\n",
       " 'sale_date',\n",
       " 'year_of_sale',\n",
       " 'Borough23',\n",
       " 'CD',\n",
       " 'CT2010',\n",
       " 'CB2010',\n",
       " 'SchoolDist',\n",
       " 'Council',\n",
       " 'ZipCode',\n",
       " 'FireComp',\n",
       " 'PolicePrct',\n",
       " 'HealthCent',\n",
       " 'HealthArea',\n",
       " 'SanitBoro',\n",
       " 'SanitDistr',\n",
       " 'SanitSub',\n",
       " 'Address37',\n",
       " 'ZoneDist1',\n",
       " 'ZoneDist2',\n",
       " 'ZoneDist3',\n",
       " 'ZoneDist4',\n",
       " 'Overlay1',\n",
       " 'Overlay2',\n",
       " 'SPDist1',\n",
       " 'SPDist2',\n",
       " 'SPDist3',\n",
       " 'LtdHeight',\n",
       " 'SplitZone',\n",
       " 'BldgClass',\n",
       " 'LandUse',\n",
       " 'Easements',\n",
       " 'OwnerType',\n",
       " 'OwnerName',\n",
       " 'LotArea',\n",
       " 'BldgArea',\n",
       " 'ComArea',\n",
       " 'ResArea',\n",
       " 'OfficeArea',\n",
       " 'RetailArea',\n",
       " 'GarageArea',\n",
       " 'StrgeArea',\n",
       " 'FactryArea',\n",
       " 'OtherArea',\n",
       " 'AreaSource',\n",
       " 'NumBldgs',\n",
       " 'NumFloors',\n",
       " 'UnitsRes',\n",
       " 'UnitsTotal',\n",
       " 'LotFront',\n",
       " 'LotDepth',\n",
       " 'BldgFront',\n",
       " 'BldgDepth',\n",
       " 'Ext',\n",
       " 'ProxCode',\n",
       " 'IrrLotCode',\n",
       " 'LotType',\n",
       " 'BsmtCode',\n",
       " 'AssessLand',\n",
       " 'AssessTot',\n",
       " 'ExemptLand',\n",
       " 'ExemptTot',\n",
       " 'YearBuilt',\n",
       " 'YearAlter1',\n",
       " 'YearAlter2',\n",
       " 'HistDist',\n",
       " 'Landmark',\n",
       " 'BuiltFAR',\n",
       " 'ResidFAR',\n",
       " 'CommFAR',\n",
       " 'FacilFAR',\n",
       " 'BoroCode',\n",
       " 'BBL',\n",
       " 'CondoNo',\n",
       " 'Tract2010',\n",
       " 'XCoord',\n",
       " 'YCoord',\n",
       " 'ZoneMap',\n",
       " 'ZMCode',\n",
       " 'Sanborn',\n",
       " 'TaxMap',\n",
       " 'EDesigNum',\n",
       " 'APPBBL',\n",
       " 'APPDate',\n",
       " 'PLUTOMapID',\n",
       " 'FIRM07_FLA',\n",
       " 'PFIRM15_FL',\n",
       " 'Version',\n",
       " 'MAPPLUTO_F',\n",
       " 'SHAPE_Leng',\n",
       " 'SHAPE_Area']"
      ]
     },
     "execution_count": 5,
     "metadata": {},
     "output_type": "execute_result"
    }
   ],
   "source": [
    "df.columns"
   ]
  },
  {
   "cell_type": "code",
   "execution_count": 6,
   "id": "b9c30893-ede9-4027-9451-9f0e663aade2",
   "metadata": {},
   "outputs": [
    {
     "name": "stdout",
     "output_type": "stream",
     "text": [
      "+---+--------+--------------------+-----------------------+---------+-----+----+--------+--------------+--------------------+\n",
      "|_c0|borough1|        neighborhood|building_class_category|tax_class|block| lot|easement|building_class|            address9|\n",
      "+---+--------+--------------------+-----------------------+---------+-----+----+--------+--------------+--------------------+\n",
      "|  1|       3|  DOWNTOWN-METROTECH|   28  COMMERCIAL CO...|        4|  140|1001|    null|            R5|      330 JAY STREET|\n",
      "|  2|       3|DOWNTOWN-FULTON F...|   29  COMMERCIAL GA...|        4|   54|   1|    null|            G7|       85 JAY STREET|\n",
      "|  3|       3|    BROOKLYN HEIGHTS|   21  OFFICE BUILDINGS|        4|  204|   1|    null|            O6| 29 COLUMBIA HEIGHTS|\n",
      "|  4|       3|          MILL BASIN|    22  STORE BUILDINGS|        4| 8470|  55|    null|            K6|       5120 AVENUE U|\n",
      "|  5|       3|    BROOKLYN HEIGHTS|        26 OTHER HOTELS|        4|  230|   1|    null|            H8|     21 CLARK STREET|\n",
      "|  6|       3|  WILLIAMSBURG-SOUTH|   31  COMMERCIAL VA...|        4| 2428|   1|    null|            V1|     329 KENT AVENUE|\n",
      "|  7|       3|    BROOKLYN HEIGHTS|    21 OFFICE BUILDINGS|        4|  250|  44|    null|            O4|     16 COURT STREET|\n",
      "|  8|       3|  WILLIAMSBURG-NORTH|   08  RENTALS - ELE...|        2| 2307|   1|    null|            D8|     250 N 10 STREET|\n",
      "|  9|       3|  WILLIAMSBURG-SOUTH|   29  COMMERCIAL GA...|        4| 2128|   5|    null|            G7|     418 KENT AVENUE|\n",
      "| 10|       3|           NAVY YARD|         30  WAREHOUSES|        4| 1876|   1|    null|            E9|        9-47 HALL ST|\n",
      "| 11|       3|  WILLIAMSBURG-NORTH|   41 TAX CLASS 4 - ...|        4| 2287|  16|    null|            Z9|  20 NORTH 12 STREET|\n",
      "| 12|       3|         FORT GREENE|   31  COMMERCIAL VA...|        4| 2094|   1|    null|            V1|          625 FULTON|\n",
      "| 13|       3|DOWNTOWN-FULTON MALL|      11A CONDO-RENTALS|        2|  165|1001|    null|            RR|236 LIVINGSTON ST...|\n",
      "| 14|       3|  DOWNTOWN-METROTECH|    21 OFFICE BUILDINGS|        4|   63|   1|    null|            O6|  55 PROSPECT STREET|\n",
      "| 15|       3|DOWNTOWN-FULTON MALL|   28  COMMERCIAL CO...|        4|  159|1001|    null|            RK|   486 FULTON STREET|\n",
      "| 16|       3|  DOWNTOWN-METROTECH|        26 OTHER HOTELS|        4|   87|   9|    null|            H8|     90 SANDS STREET|\n",
      "| 17|       3|  WILLIAMSBURG-NORTH|   31  COMMERCIAL VA...|        4| 2282|   1|    null|            V1|      19 KENT AVENUE|\n",
      "| 18|       3|  WILLIAMSBURG-NORTH|   08  RENTALS - ELE...|        2| 2322|  10|    null|            D3|246 NORTH 8TH   S...|\n",
      "| 19|       3|            CANARSIE|   29  COMMERCIAL GA...|        4| 7920|   1|    null|            G7|  8717 FOSTER AVENUE|\n",
      "| 20|       3|  DOWNTOWN-METROTECH|    21 OFFICE BUILDINGS|        4|   77|   1|    null|            O6|     77 SANDS STREET|\n",
      "+---+--------+--------------------+-----------------------+---------+-----+----+--------+--------------+--------------------+\n",
      "only showing top 20 rows\n",
      "\n"
     ]
    }
   ],
   "source": [
    "df.select(*df.columns[:10]).show()"
   ]
  },
  {
   "cell_type": "code",
   "execution_count": 7,
   "id": "3f5a0366-ff13-4fe8-828c-94e53b95be3b",
   "metadata": {},
   "outputs": [],
   "source": [
    "# adress9: отсечь от номера дома улицу и сгруппировать.\n",
    "# 2  lab вариант 2\n",
    "# Защищать второй раз не надо.\n",
    "# Machine Learning with PysSpark - книжка пригодится"
   ]
  },
  {
   "cell_type": "code",
   "execution_count": 8,
   "id": "5843f4c6-9c3e-4a30-bc46-8848cea9cc0e",
   "metadata": {
    "tags": []
   },
   "outputs": [
    {
     "name": "stdout",
     "output_type": "stream",
     "text": [
      "+-------+------------------+--------+-----------------+-----------------------+------------------+\n",
      "|summary|               _c0|borough1|     neighborhood|building_class_category|         tax_class|\n",
      "+-------+------------------+--------+-----------------+-----------------------+------------------+\n",
      "|  count|            390883|  390883|           390883|                 390800|            383949|\n",
      "|   mean|          195442.0|     3.0|           3009.0|                   null|1.6015349828238465|\n",
      "| stddev|112838.34697329922|     0.0|8.660254037844387|                   null|0.9477514176991289|\n",
      "|    min|                 1|       3|             3004|    01 ONE FAMILY HOMES|                 1|\n",
      "|    max|            390883|       3|  WYCKOFF HEIGHTS|   49 CONDO WAREHOUS...|                 4|\n",
      "+-------+------------------+--------+-----------------+-----------------------+------------------+\n",
      "\n"
     ]
    }
   ],
   "source": [
    "df.select(*df.columns[:5]).describe().show()"
   ]
  },
  {
   "cell_type": "code",
   "execution_count": 9,
   "id": "f573ad7e-06c1-4e7c-9926-88d2b5726d36",
   "metadata": {},
   "outputs": [
    {
     "name": "stdout",
     "output_type": "stream",
     "text": [
      "root\n",
      " |-- _c0: integer (nullable = true)\n",
      " |-- borough1: integer (nullable = true)\n",
      " |-- neighborhood: string (nullable = true)\n",
      " |-- building_class_category: string (nullable = true)\n",
      " |-- tax_class: string (nullable = true)\n",
      "\n"
     ]
    }
   ],
   "source": [
    "df.select(*df.columns[:5]).printSchema()"
   ]
  },
  {
   "cell_type": "markdown",
   "id": "33f218f7-3474-4e1e-b591-3b03066d2162",
   "metadata": {
    "jp-MarkdownHeadingCollapsed": true,
    "tags": []
   },
   "source": [
    "# Task 1"
   ]
  },
  {
   "cell_type": "code",
   "execution_count": 37,
   "id": "8c82a775-0e2d-465b-b263-0034a3f8a8be",
   "metadata": {},
   "outputs": [
    {
     "name": "stdout",
     "output_type": "stream",
     "text": [
      "+------------------+\n",
      "|   avg(year_built)|\n",
      "+------------------+\n",
      "|1701.6663067976863|\n",
      "+------------------+\n",
      "\n"
     ]
    }
   ],
   "source": [
    "year_built_avg_df = df.agg(avg(YEAR_BUILT))\n",
    "year_built_avg_df.show()"
   ]
  },
  {
   "cell_type": "code",
   "execution_count": 38,
   "id": "28ee516b-55f8-4921-9303-ecaa68b9f37a",
   "metadata": {},
   "outputs": [
    {
     "data": {
      "text/plain": [
       "1701.6663067976863"
      ]
     },
     "execution_count": 38,
     "metadata": {},
     "output_type": "execute_result"
    }
   ],
   "source": [
    "year_built_avg = year_built_avg_df.collect()[0][0]\n",
    "year_built_avg"
   ]
  },
  {
   "cell_type": "code",
   "execution_count": 39,
   "id": "8cf998d2-47ea-466b-984b-04e76072aeca",
   "metadata": {},
   "outputs": [],
   "source": [
    "def count_deviation(year: int, year_avg: float) -> float:\n",
    "    \"\"\"Count a deviation of year_built feature.\n",
    "    \n",
    "    The deviation is a difference between year value and \\\n",
    "        mean value of the feature.\n",
    "    Args:\n",
    "        year: A year of house building.\n",
    "        year_avg: A precalculated mean value of the year_built feature.\n",
    "        \n",
    "    Returns:\n",
    "        A deviation difference between year value and mean value of the feature.\n",
    "    \"\"\"\n",
    "    deviation = year - year_avg\n",
    "    return deviation"
   ]
  },
  {
   "cell_type": "code",
   "execution_count": 40,
   "id": "b5c2d3a8-c5e2-40e1-91bc-6b5829d95d35",
   "metadata": {},
   "outputs": [],
   "source": [
    "count_deviation_udf = udf(lambda row: count_deviation(row, year_built_avg))"
   ]
  },
  {
   "cell_type": "code",
   "execution_count": 41,
   "id": "89cdbb7d-8c40-4d0d-baf3-50a76b4e8895",
   "metadata": {},
   "outputs": [
    {
     "name": "stdout",
     "output_type": "stream",
     "text": [
      "+----------+--------------------+\n",
      "|year_built|year_built_deviation|\n",
      "+----------+--------------------+\n",
      "|      2002|   300.3336932023137|\n",
      "|         0| -1701.6663067976863|\n",
      "|      1924|  222.33369320231373|\n",
      "|      1970|   268.3336932023137|\n",
      "|      1927|  225.33369320231373|\n",
      "|         0| -1701.6663067976863|\n",
      "|      1928|  226.33369320231373|\n",
      "|      2012|   310.3336932023137|\n",
      "|         0| -1701.6663067976863|\n",
      "|      1912|  210.33369320231373|\n",
      "|         0| -1701.6663067976863|\n",
      "|         0| -1701.6663067976863|\n",
      "|      2009|   307.3336932023137|\n",
      "|      1967|   265.3336932023137|\n",
      "|      1920|  218.33369320231373|\n",
      "|      1992|   290.3336932023137|\n",
      "|      1920|  218.33369320231373|\n",
      "|      2014|   312.3336932023137|\n",
      "|         0| -1701.6663067976863|\n",
      "|      1962|   260.3336932023137|\n",
      "+----------+--------------------+\n",
      "only showing top 20 rows\n",
      "\n"
     ]
    }
   ],
   "source": [
    "new_df = df.withColumn(YEAR_BUILT_DEVIATION, count_deviation_udf(df[YEAR_BUILT]))\n",
    "new_df.select(YEAR_BUILT, YEAR_BUILT_DEVIATION).show()"
   ]
  },
  {
   "cell_type": "markdown",
   "id": "410b84b1-6ddf-4c53-b088-759c967604d7",
   "metadata": {},
   "source": [
    "# Task 2"
   ]
  },
  {
   "cell_type": "code",
   "execution_count": 10,
   "id": "35e03e9c-6c75-4254-83b0-cd37fe5510c7",
   "metadata": {},
   "outputs": [
    {
     "name": "stdout",
     "output_type": "stream",
     "text": [
      "+--------------------+\n",
      "|            address9|\n",
      "+--------------------+\n",
      "|      330 JAY STREET|\n",
      "|       85 JAY STREET|\n",
      "| 29 COLUMBIA HEIGHTS|\n",
      "|       5120 AVENUE U|\n",
      "|     21 CLARK STREET|\n",
      "|     329 KENT AVENUE|\n",
      "|     16 COURT STREET|\n",
      "|     250 N 10 STREET|\n",
      "|     418 KENT AVENUE|\n",
      "|        9-47 HALL ST|\n",
      "|  20 NORTH 12 STREET|\n",
      "|          625 FULTON|\n",
      "|236 LIVINGSTON ST...|\n",
      "|  55 PROSPECT STREET|\n",
      "|   486 FULTON STREET|\n",
      "|     90 SANDS STREET|\n",
      "|      19 KENT AVENUE|\n",
      "|246 NORTH 8TH   S...|\n",
      "|  8717 FOSTER AVENUE|\n",
      "|     77 SANDS STREET|\n",
      "+--------------------+\n",
      "only showing top 20 rows\n",
      "\n"
     ]
    }
   ],
   "source": [
    "df.select(ADDRESS).show()"
   ]
  },
  {
   "cell_type": "code",
   "execution_count": 11,
   "id": "da677536-5b8c-4e55-b897-f68809fbe68c",
   "metadata": {},
   "outputs": [],
   "source": [
    "def get_building_num(address: str) -> float:\n",
    "    \"\"\"Gets a building number from an address.\n",
    "    \n",
    "    Args:\n",
    "        address: A building address.\n",
    "        \n",
    "    Returns:\n",
    "        A building number.\n",
    "    \"\"\"\n",
    "    splitted_address = address.strip().split(' ')\n",
    "    building_num = splitted_address[0]\n",
    "    return building_num"
   ]
  },
  {
   "cell_type": "code",
   "execution_count": 12,
   "id": "2c6c09ce-6ede-4ee9-b6b6-ea3d46a26a96",
   "metadata": {},
   "outputs": [],
   "source": [
    "def get_street_name(address: str) -> float:\n",
    "    \"\"\"Gets a building number from an address.\n",
    "    \n",
    "    Args:\n",
    "        address: A building address.\n",
    "        \n",
    "    Returns:\n",
    "        A street name.\n",
    "    \"\"\"\n",
    "    splitted_address = address.strip().split(' ')\n",
    "    street_num = ' '.join(splitted_address[1:])\n",
    "    return street_num"
   ]
  },
  {
   "cell_type": "code",
   "execution_count": 13,
   "id": "864c4652-0983-406d-855b-6118d657da88",
   "metadata": {},
   "outputs": [],
   "source": [
    "get_building_num_udf = udf(get_building_num)\n",
    "get_street_name_udf = udf(get_street_name)"
   ]
  },
  {
   "cell_type": "code",
   "execution_count": 14,
   "id": "2059d5c3-602e-4784-ba00-73241c3d5bba",
   "metadata": {},
   "outputs": [
    {
     "name": "stdout",
     "output_type": "stream",
     "text": [
      "+--------------------+------------+------------------+\n",
      "|            address9|building_num|       street_name|\n",
      "+--------------------+------------+------------------+\n",
      "|      330 JAY STREET|         330|        JAY STREET|\n",
      "|       85 JAY STREET|          85|        JAY STREET|\n",
      "| 29 COLUMBIA HEIGHTS|          29|  COLUMBIA HEIGHTS|\n",
      "|       5120 AVENUE U|        5120|          AVENUE U|\n",
      "|     21 CLARK STREET|          21|      CLARK STREET|\n",
      "|     329 KENT AVENUE|         329|       KENT AVENUE|\n",
      "|     16 COURT STREET|          16|      COURT STREET|\n",
      "|     250 N 10 STREET|         250|       N 10 STREET|\n",
      "|     418 KENT AVENUE|         418|       KENT AVENUE|\n",
      "|        9-47 HALL ST|        9-47|           HALL ST|\n",
      "|  20 NORTH 12 STREET|          20|   NORTH 12 STREET|\n",
      "|          625 FULTON|         625|            FULTON|\n",
      "|236 LIVINGSTON ST...|         236| LIVINGSTON STREET|\n",
      "|  55 PROSPECT STREET|          55|   PROSPECT STREET|\n",
      "|   486 FULTON STREET|         486|     FULTON STREET|\n",
      "|     90 SANDS STREET|          90|      SANDS STREET|\n",
      "|      19 KENT AVENUE|          19|       KENT AVENUE|\n",
      "|246 NORTH 8TH   S...|         246|NORTH 8TH   STREET|\n",
      "|  8717 FOSTER AVENUE|        8717|     FOSTER AVENUE|\n",
      "|     77 SANDS STREET|          77|      SANDS STREET|\n",
      "+--------------------+------------+------------------+\n",
      "only showing top 20 rows\n",
      "\n"
     ]
    }
   ],
   "source": [
    "new_df = df.withColumn(BUILDING_NUM, get_building_num_udf(\n",
    "    df[ADDRESS])).withColumn(STREET_NAME, get_street_name_udf(df[ADDRESS]))\n",
    "new_df.select(ADDRESS, BUILDING_NUM, STREET_NAME).show()"
   ]
  },
  {
   "cell_type": "code",
   "execution_count": 16,
   "id": "69b3d398-b9c3-424a-93a7-18292cffbb3d",
   "metadata": {},
   "outputs": [
    {
     "name": "stdout",
     "output_type": "stream",
     "text": [
      "+-------------------+-----+\n",
      "|        street_name|count|\n",
      "+-------------------+-----+\n",
      "|       STARR STREET|  157|\n",
      "|   EAST 38TH STREET|  296|\n",
      "|      TIFFANY PLACE|  420|\n",
      "|        KING STREET|   43|\n",
      "|            HANCOCK|   53|\n",
      "|        10TH AVENUE|  173|\n",
      "|      WELDON STREET|   78|\n",
      "|    RAPELYEA STREET|    4|\n",
      "|  LINCOLN PLACE, 4A|   10|\n",
      "|EASTERN PARKWAY, 8D|    2|\n",
      "|     WEST 12 STREET|   85|\n",
      "|  EIGHTH AVENUE, 3R|    1|\n",
      "|  HICKS STREET, 14L|    2|\n",
      "|           56TH ST.|    2|\n",
      "|  TOMPKINS PLACE, 3|    3|\n",
      "|  LINCOLN PLACE, 1L|    5|\n",
      "|   12TH STREET, K1L|    2|\n",
      "| PROSPECT PLACE, 1L|    1|\n",
      "|        VISTA PLACE|   16|\n",
      "|     PARK PLACE, 2L|    3|\n",
      "+-------------------+-----+\n",
      "only showing top 20 rows\n",
      "\n"
     ]
    }
   ],
   "source": [
    "new_df.groupBy(STREET_NAME).count().show()"
   ]
  },
  {
   "cell_type": "markdown",
   "id": "8322a9a9-dd9d-4fba-8611-2816068fc881",
   "metadata": {
    "tags": []
   },
   "source": [
    "# Task 3"
   ]
  },
  {
   "cell_type": "code",
   "execution_count": null,
   "id": "9dbf6a73-5a16-44db-8fd6-e298673e8004",
   "metadata": {
    "tags": []
   },
   "outputs": [
    {
     "name": "stdout",
     "output_type": "stream",
     "text": [
      "+----------+--------+\n",
      "|sale_price|zip_code|\n",
      "+----------+--------+\n",
      "|       0.0|   33803|\n",
      "|       0.0|   33803|\n",
      "|       0.0|   11416|\n",
      "|       0.0|   11416|\n",
      "|       0.0|   11416|\n",
      "|       0.0|   11416|\n",
      "|       0.0|   11416|\n",
      "|       0.0|   11416|\n",
      "|       0.0|   11416|\n",
      "|       0.0|   11416|\n",
      "|       0.0|   11416|\n",
      "|       0.0|   11416|\n",
      "|       0.0|   11249|\n",
      "|       0.0|   11249|\n",
      "|       0.0|   11249|\n",
      "|       0.0|   11249|\n",
      "|       0.0|   11249|\n",
      "|       0.0|   11249|\n",
      "|       0.0|   11249|\n",
      "|       0.0|   11249|\n",
      "+----------+--------+\n",
      "only showing top 20 rows\n",
      "\n"
     ]
    }
   ],
   "source": [
    "df_sorted = df.orderBy(SALE_PRICE, ZIP_CODE, ascending=[True, False])\n",
    "df_sorted.select(SALE_PRICE, ZIP_CODE).show()"
   ]
  },
  {
   "cell_type": "markdown",
   "id": "1e0483d2-2151-4978-b885-5485b5eb8b56",
   "metadata": {
    "tags": []
   },
   "source": [
    "# Task 4"
   ]
  },
  {
   "cell_type": "code",
   "execution_count": null,
   "id": "ca27ba2d-61c1-4d84-a9e8-c373d295fccf",
   "metadata": {},
   "outputs": [
    {
     "name": "stdout",
     "output_type": "stream",
     "text": [
      "+--------------------+-----------------------+------------------+\n",
      "|        neighborhood|building_class_category|   avg(sale_price)|\n",
      "+--------------------+-----------------------+------------------+\n",
      "|    BROOKLYN HEIGHTS|    22  STORE BUILDINGS|1748589.4137931035|\n",
      "|             MIDWOOD|   05  TAX CLASS 1 V...|455718.34920634923|\n",
      "|   WILLIAMSBURG-EAST|   08 RENTALS - ELEV...|          834672.5|\n",
      "|        BOROUGH PARK|   15  CONDOS - 2-10...| 355174.0700116686|\n",
      "|    PARK SLOPE SOUTH|   46  CONDO STORE B...|         1325000.0|\n",
      "|      BRIGHTON BEACH|    21 OFFICE BUILDINGS|          576720.0|\n",
      "|  BEDFORD STUYVESANT|   05 TAX CLASS 1 VA...| 545808.8823529412|\n",
      "|  WILLIAMSBURG-SOUTH|   04  TAX CLASS 1 C...|          300978.8|\n",
      "|        BOROUGH PARK|   04  TAX CLASS 1 C...| 288998.2962962963|\n",
      "|           FLATLANDS|   29 COMMERCIAL GAR...|          195000.0|\n",
      "|      SHEEPSHEAD BAY|   15 CONDOS - 2-10 ...|          477428.8|\n",
      "|         BOERUM HILL|        17  CONDO COOPS|          720000.0|\n",
      "|      BRIGHTON BEACH|   08  RENTALS - ELE...| 6080904.540983606|\n",
      "|   WILLIAMSBURG-EAST|   08  RENTALS - ELE...|         2820331.6|\n",
      "|           BAY RIDGE|   10  COOPS - ELEVA...| 227244.1470891293|\n",
      "|           BAY RIDGE|         30  WAREHOUSES|1539285.7142857143|\n",
      "|DOWNTOWN-FULTON MALL|   41  TAX CLASS 4 -...|         2301441.0|\n",
      "| OCEAN PARKWAY-NORTH|   08 RENTALS - ELEV...|         4100000.0|\n",
      "|     GERRITSEN BEACH|   31  COMMERCIAL VA...| 421039.4736842105|\n",
      "|    BROOKLYN HEIGHTS|   09 COOPS - WALKUP...|1029613.8780487805|\n",
      "+--------------------+-----------------------+------------------+\n",
      "only showing top 20 rows\n",
      "\n"
     ]
    }
   ],
   "source": [
    "df_grouped = df.groupby([NEIGHBORHOOD, BUILDING_CLASS_CATEGORY]).mean(SALE_PRICE)\n",
    "df_grouped.show()"
   ]
  },
  {
   "cell_type": "code",
   "execution_count": null,
   "id": "8ccb9371-38dd-43d5-88d7-ace3acd086d3",
   "metadata": {},
   "outputs": [],
   "source": []
  }
 ],
 "metadata": {
  "kernelspec": {
   "display_name": "Python 3 (ipykernel)",
   "language": "python",
   "name": "python3"
  },
  "language_info": {
   "codemirror_mode": {
    "name": "ipython",
    "version": 3
   },
   "file_extension": ".py",
   "mimetype": "text/x-python",
   "name": "python",
   "nbconvert_exporter": "python",
   "pygments_lexer": "ipython3",
   "version": "3.9.10"
  }
 },
 "nbformat": 4,
 "nbformat_minor": 5
}
